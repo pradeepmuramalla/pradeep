{
 "cells": [
  {
   "cell_type": "code",
   "execution_count": 1,
   "id": "6a452553",
   "metadata": {},
   "outputs": [
    {
     "ename": "SyntaxError",
     "evalue": "invalid syntax (Temp/ipykernel_6084/2215322006.py, line 2)",
     "output_type": "error",
     "traceback": [
      "\u001b[1;36m  File \u001b[1;32m\"C:\\Users\\user\\AppData\\Local\\Temp/ipykernel_6084/2215322006.py\"\u001b[1;36m, line \u001b[1;32m2\u001b[0m\n\u001b[1;33m    even_num, odd num = 0, 0\u001b[0m\n\u001b[1;37m                      ^\u001b[0m\n\u001b[1;31mSyntaxError\u001b[0m\u001b[1;31m:\u001b[0m invalid syntax\n"
     ]
    }
   ],
   "source": [
    "numbers = [1,2,3,4,5,6,7,8,9,10,11,12,13,14,15,16,17,18,19,20]\n",
    "even_num, odd num =0, 0\n",
    "for n in numbers:\n",
    "    if n % 2 ==0:\n",
    "        even_num += 1\n",
    "    else:\n",
    "        odd_num +=1\n",
    "print(\"number of even numbers: \",even_num)\n",
    "print(\"number of odd numbers: \",odd_num)"
   ]
  },
  {
   "cell_type": "code",
   "execution_count": null,
   "id": "d9a529de",
   "metadata": {},
   "outputs": [],
   "source": []
  }
 ],
 "metadata": {
  "kernelspec": {
   "display_name": "Python 3 (ipykernel)",
   "language": "python",
   "name": "python3"
  },
  "language_info": {
   "codemirror_mode": {
    "name": "ipython",
    "version": 3
   },
   "file_extension": ".py",
   "mimetype": "text/x-python",
   "name": "python",
   "nbconvert_exporter": "python",
   "pygments_lexer": "ipython3",
   "version": "3.9.7"
  }
 },
 "nbformat": 4,
 "nbformat_minor": 5
}
