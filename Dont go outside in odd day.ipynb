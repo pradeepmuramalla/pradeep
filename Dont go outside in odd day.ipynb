{
 "cells": [
  {
   "cell_type": "code",
   "execution_count": 3,
   "id": "a7273605",
   "metadata": {},
   "outputs": [
    {
     "name": "stdout",
     "output_type": "stream",
     "text": [
      "number of even numbers:  10\n",
      "number of odd numbers:  10\n"
     ]
    }
   ],
   "source": [
    "numbers = [1,2,3,4,5,6,7,8,9,10,11,12,13,14,15,16,17,18,19,20]\n",
    "even_num, odd_num =0,0\n",
    "for n in numbers:\n",
    "    if n % 2 ==0:\n",
    "        even_num += 1\n",
    "    else:\n",
    "        odd_num +=1\n",
    "print(\"number of even numbers: \",even_num)\n",
    "print(\"number of odd numbers: \",odd_num)"
   ]
  },
  {
   "cell_type": "code",
   "execution_count": null,
   "id": "897a73de",
   "metadata": {},
   "outputs": [],
   "source": []
  }
 ],
 "metadata": {
  "kernelspec": {
   "display_name": "Python 3 (ipykernel)",
   "language": "python",
   "name": "python3"
  },
  "language_info": {
   "codemirror_mode": {
    "name": "ipython",
    "version": 3
   },
   "file_extension": ".py",
   "mimetype": "text/x-python",
   "name": "python",
   "nbconvert_exporter": "python",
   "pygments_lexer": "ipython3",
   "version": "3.9.7"
  }
 },
 "nbformat": 4,
 "nbformat_minor": 5
}
